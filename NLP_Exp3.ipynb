{
 "cells": [
  {
   "cell_type": "code",
   "execution_count": 5,
   "id": "1f7ed09a-e0be-4aa2-931f-7b2186f02dd1",
   "metadata": {},
   "outputs": [
    {
     "name": "stderr",
     "output_type": "stream",
     "text": [
      "[nltk_data] Downloading package stopwords to\n",
      "[nltk_data]     /Users/macbookair/nltk_data...\n",
      "[nltk_data]   Package stopwords is already up-to-date!\n"
     ]
    },
    {
     "data": {
      "text/plain": [
       "True"
      ]
     },
     "execution_count": 5,
     "metadata": {},
     "output_type": "execute_result"
    }
   ],
   "source": [
    "import nltk \n",
    "from nltk.corpus import stopwords\n",
    "nltk.download('stopwords')"
   ]
  },
  {
   "cell_type": "code",
   "execution_count": 8,
   "id": "d63db96e-9cd5-4579-8a6e-cfb0b0c82fc5",
   "metadata": {},
   "outputs": [],
   "source": [
    "def rem_stopwords(text):\n",
    "    stop_words = set(stopwords.words(\"english\"))\n",
    "    words = nltk.word_tokenize(text)\n",
    "    filtered_words = [word for word in words if word.lower() not in stop_words]\n",
    "    return \"\".join(filtered_words)\n",
    "    \n"
   ]
  },
  {
   "cell_type": "code",
   "execution_count": 10,
   "id": "2e468a77-d8b7-41f0-bc74-d20ac800134e",
   "metadata": {},
   "outputs": [
    {
     "name": "stdout",
     "output_type": "stream",
     "text": [
      "Native text: Real Madrid is the team with the highest number of Champions League titles in the history of the sports.\n",
      "\n",
      "Text after removing stopwords: RealMadridteamhighestnumberChampionsLeaguetitleshistorysports.\n"
     ]
    }
   ],
   "source": [
    "text = \"Real Madrid is the team with the highest number of Champions League titles in the history of the sports.\"\n",
    "filtered_text = rem_stopwords(text)\n",
    "print(\"Native text:\", text)\n",
    "print(\"\\nText after removing stopwords:\", filtered_text)"
   ]
  },
  {
   "cell_type": "code",
   "execution_count": null,
   "id": "a8a94c34-e47d-497d-bc78-b07c1e522be0",
   "metadata": {},
   "outputs": [],
   "source": []
  }
 ],
 "metadata": {
  "kernelspec": {
   "display_name": "Python 3 (ipykernel)",
   "language": "python",
   "name": "python3"
  },
  "language_info": {
   "codemirror_mode": {
    "name": "ipython",
    "version": 3
   },
   "file_extension": ".py",
   "mimetype": "text/x-python",
   "name": "python",
   "nbconvert_exporter": "python",
   "pygments_lexer": "ipython3",
   "version": "3.10.0"
  }
 },
 "nbformat": 4,
 "nbformat_minor": 5
}
