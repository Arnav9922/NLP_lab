{
 "cells": [
  {
   "cell_type": "code",
   "execution_count": 1,
   "id": "5942bb25-d772-4604-aa55-25eae9e6ee31",
   "metadata": {},
   "outputs": [],
   "source": [
    "import nltk \n",
    "from nltk import PorterStemmer"
   ]
  },
  {
   "cell_type": "code",
   "execution_count": 3,
   "id": "be58b1d2-dd2b-4987-b98e-edf6bd3537f2",
   "metadata": {},
   "outputs": [],
   "source": [
    "port_stemm = PorterStemmer()"
   ]
  },
  {
   "cell_type": "code",
   "execution_count": 4,
   "id": "25a09711-9bc8-4ee0-9769-beed19351ab2",
   "metadata": {},
   "outputs": [
    {
     "data": {
      "text/plain": [
       "'write'"
      ]
     },
     "execution_count": 4,
     "metadata": {},
     "output_type": "execute_result"
    }
   ],
   "source": [
    "port_stemm.stem('Writing')"
   ]
  },
  {
   "cell_type": "code",
   "execution_count": 5,
   "id": "40fcad98-3ab1-4b87-807a-6d76f600c45a",
   "metadata": {},
   "outputs": [
    {
     "data": {
      "text/plain": [
       "'eat'"
      ]
     },
     "execution_count": 5,
     "metadata": {},
     "output_type": "execute_result"
    }
   ],
   "source": [
    "port_stemm.stem('eats')"
   ]
  },
  {
   "cell_type": "code",
   "execution_count": 6,
   "id": "a3b1ee47-ee8d-4f28-ae6b-4a867dd4162c",
   "metadata": {},
   "outputs": [],
   "source": [
    "from nltk import LancasterStemmer"
   ]
  },
  {
   "cell_type": "code",
   "execution_count": 8,
   "id": "e7cced01-0a5c-4a14-851a-d0444ab1a9a3",
   "metadata": {},
   "outputs": [],
   "source": [
    "lank = LancasterStemmer()"
   ]
  },
  {
   "cell_type": "code",
   "execution_count": 10,
   "id": "1b2085e4-840e-42fd-a1cb-31e687da998f",
   "metadata": {},
   "outputs": [
    {
     "data": {
      "text/plain": [
       "'swim'"
      ]
     },
     "execution_count": 10,
     "metadata": {},
     "output_type": "execute_result"
    }
   ],
   "source": [
    "lank.stem('Swimming')"
   ]
  },
  {
   "cell_type": "code",
   "execution_count": 11,
   "id": "a50d3bde-f225-4997-8d22-c6c615638ea8",
   "metadata": {},
   "outputs": [],
   "source": [
    "from nltk import RegexpStemmer"
   ]
  },
  {
   "cell_type": "code",
   "execution_count": 15,
   "id": "f51ee591-2b26-42b1-acef-d3b9ce3d289e",
   "metadata": {},
   "outputs": [],
   "source": [
    "reg = RegexpStemmer('In')"
   ]
  },
  {
   "cell_type": "code",
   "execution_count": 16,
   "id": "467a9b22-4e20-4ca1-8403-250d90d29c72",
   "metadata": {},
   "outputs": [
    {
     "data": {
      "text/plain": [
       "'eat'"
      ]
     },
     "execution_count": 16,
     "metadata": {},
     "output_type": "execute_result"
    }
   ],
   "source": [
    "reg.stem('Ineat')"
   ]
  },
  {
   "cell_type": "code",
   "execution_count": 17,
   "id": "b089799f-0f39-41e9-81e1-2908be8feb28",
   "metadata": {},
   "outputs": [],
   "source": [
    "from nltk import SnowballStemmer"
   ]
  },
  {
   "cell_type": "code",
   "execution_count": 19,
   "id": "3825e884-1be9-44ab-8df7-fe62a2b4a06f",
   "metadata": {},
   "outputs": [],
   "source": [
    "snow = SnowballStemmer('french')"
   ]
  },
  {
   "cell_type": "code",
   "execution_count": 20,
   "id": "12fdd544-e548-4bf1-884f-697611481ee3",
   "metadata": {},
   "outputs": [
    {
     "data": {
      "text/plain": [
       "'bonjour'"
      ]
     },
     "execution_count": 20,
     "metadata": {},
     "output_type": "execute_result"
    }
   ],
   "source": [
    "snow.stem('Bonjoura')"
   ]
  },
  {
   "cell_type": "code",
   "execution_count": 22,
   "id": "dbdb74f8-aeee-44cb-97c7-aa9fccd426aa",
   "metadata": {},
   "outputs": [
    {
     "name": "stderr",
     "output_type": "stream",
     "text": [
      "[nltk_data] Downloading package wordnet to\n",
      "[nltk_data]     /Users/macbookair/nltk_data...\n"
     ]
    },
    {
     "data": {
      "text/plain": [
       "True"
      ]
     },
     "execution_count": 22,
     "metadata": {},
     "output_type": "execute_result"
    }
   ],
   "source": [
    "nltk.download('wordnet')"
   ]
  },
  {
   "cell_type": "code",
   "execution_count": 25,
   "id": "e9b4b3c6-0aae-42b5-a300-b50458270b27",
   "metadata": {},
   "outputs": [
    {
     "data": {
      "text/plain": [
       "'bus'"
      ]
     },
     "execution_count": 25,
     "metadata": {},
     "output_type": "execute_result"
    }
   ],
   "source": [
    "import nltk\n",
    "from nltk.stem import WordNetLemmatizer\n",
    "lemmatizer = WordNetLemmatizer()\n",
    "lemmatizer.lemmatize('buses')"
   ]
  },
  {
   "cell_type": "code",
   "execution_count": null,
   "id": "59177fc8-0f71-4805-b081-668b0563a899",
   "metadata": {},
   "outputs": [],
   "source": []
  }
 ],
 "metadata": {
  "kernelspec": {
   "display_name": "Python 3 (ipykernel)",
   "language": "python",
   "name": "python3"
  },
  "language_info": {
   "codemirror_mode": {
    "name": "ipython",
    "version": 3
   },
   "file_extension": ".py",
   "mimetype": "text/x-python",
   "name": "python",
   "nbconvert_exporter": "python",
   "pygments_lexer": "ipython3",
   "version": "3.10.0"
  }
 },
 "nbformat": 4,
 "nbformat_minor": 5
}
